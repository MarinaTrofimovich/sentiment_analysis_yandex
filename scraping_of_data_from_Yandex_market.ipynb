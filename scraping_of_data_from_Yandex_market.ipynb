{
 "cells": [
  {
   "cell_type": "markdown",
   "metadata": {},
   "source": [
    "# Data scraping"
   ]
  },
  {
   "cell_type": "markdown",
   "metadata": {},
   "source": [
    "In this Notebook we are scraping the reviews on smartphones out of the Yandex market catalog https://market.yandex.ru/catalog--mobilnye-telefony/54726/list.\n",
    "\n",
    "The first step is getting the links on the smartphones in the catalog (get_smartphones function).\n",
    "\n",
    "The second step regards several stages for each smartphone from the list:\n",
    "- to tab the reviews section,\n",
    "- to identify the total number of reviews and accordingly the reviews pages on the current smartphone,\n",
    "- to go automatically through all these pages and get the reviews and their scores,\n",
    "- to save each review and its score in the .json file.\n",
    "\n",
    "This goal was achieved by using the Selenium module. The attempt of using BeautifulSoup and Scrapy libraries wasn't successful due to site blockings in consequence of the large number automatic requests existence. Attempts for using various tricks such as unequal spans of time requests and pauses between the requests were unsuccessful as well. The security system could not be bypassed. With the Selenium module, it was sufficient only once to go through the captcha."
   ]
  },
  {
   "cell_type": "code",
   "execution_count": 66,
   "metadata": {},
   "outputs": [],
   "source": [
    "from selenium import webdriver\n",
    "import time \n",
    "import json\n",
    "\n",
    "import warnings\n",
    "warnings.filterwarnings('ignore')"
   ]
  },
  {
   "cell_type": "markdown",
   "metadata": {},
   "source": [
    "Creation of the variable for storing the links to all smartphones."
   ]
  },
  {
   "cell_type": "code",
   "execution_count": 3,
   "metadata": {},
   "outputs": [],
   "source": [
    "links_list = []"
   ]
  },
  {
   "cell_type": "markdown",
   "metadata": {},
   "source": [
    "Creating the get_smartphones function which go through the web page of the market and get the links to all smartphones on the page. It gets the the web-page URL and the links_list as parameters. It checks if there is the link on smartphone in the current link_list and append if it's absent there. As the result, the function returns the updated links_list. \n",
    "\n",
    "Unfortunately, as it had been found, the smartphone links are located on the pages of the catalog randomly (or, probably, the logic of this process was missed). This is the reason why we consider each web page separately, check if the current link is in the links_list, and update the link_list if the current link is a new one.\n",
    "\n",
    "As you can see below some pages have the same links, and our links_list is not updated. We checked only 6 pages and got 190 links to smartphones which is more than enough for our purposes."
   ]
  },
  {
   "cell_type": "code",
   "execution_count": 19,
   "metadata": {},
   "outputs": [],
   "source": [
    "def get_smartphones(url, links_list):   \n",
    "    \n",
    "    driver = webdriver.Chrome('/Users/marinatrofimovich/studing/coursere_course/final_project/week6/chromedriver')\n",
    "    driver.get(url)\n",
    "    time.sleep(10)\n",
    "    links = driver.find_elements_by_css_selector('.wwZc93J2Ao')\n",
    "    for link in links:\n",
    "        l = link.get_attribute('href')\n",
    "        if l not in links_list:\n",
    "            links_list.append(link.get_attribute('href'))                                     \n",
    "   \n",
    "    return(links_list)"
   ]
  },
  {
   "cell_type": "code",
   "execution_count": 20,
   "metadata": {},
   "outputs": [],
   "source": [
    "url1 = \"https://market.yandex.ru/catalog--mobilnye-telefony/54726/list\"\n",
    "links_list1 = get_smartphones(url1, links_list)"
   ]
  },
  {
   "cell_type": "code",
   "execution_count": 21,
   "metadata": {},
   "outputs": [
    {
     "data": {
      "text/plain": [
       "96"
      ]
     },
     "execution_count": 21,
     "metadata": {},
     "output_type": "execute_result"
    }
   ],
   "source": [
    "len(links_list1)"
   ]
  },
  {
   "cell_type": "code",
   "execution_count": 22,
   "metadata": {},
   "outputs": [],
   "source": [
    "url2 = \"https://market.yandex.ru/catalog--mobilnye-telefony/54726/list?cpa=0&hid=91491&onstock=1&page=2&local-offers-first=0\"\n",
    "links_list2 = get_smartphones(url2, links_list1)"
   ]
  },
  {
   "cell_type": "code",
   "execution_count": 23,
   "metadata": {},
   "outputs": [
    {
     "data": {
      "text/plain": [
       "96"
      ]
     },
     "execution_count": 23,
     "metadata": {},
     "output_type": "execute_result"
    }
   ],
   "source": [
    "len(links_list2)"
   ]
  },
  {
   "cell_type": "code",
   "execution_count": 24,
   "metadata": {},
   "outputs": [],
   "source": [
    "url3 = \"https://market.yandex.ru/catalog--mobilnye-telefony/54726/list?cpa=0&hid=91491&onstock=1&page=3&local-offers-first=0\"\n",
    "links_list3 = get_smartphones(url3, links_list2)"
   ]
  },
  {
   "cell_type": "code",
   "execution_count": 25,
   "metadata": {},
   "outputs": [
    {
     "data": {
      "text/plain": [
       "96"
      ]
     },
     "execution_count": 25,
     "metadata": {},
     "output_type": "execute_result"
    }
   ],
   "source": [
    "len(links_list3)"
   ]
  },
  {
   "cell_type": "code",
   "execution_count": 26,
   "metadata": {},
   "outputs": [],
   "source": [
    "url4 = \"https://market.yandex.ru/catalog--mobilnye-telefony/54726/list?cpa=0&hid=91491&onstock=1&page=4&local-offers-first=0\"\n",
    "links_list4 = get_smartphones(url4, links_list3)"
   ]
  },
  {
   "cell_type": "code",
   "execution_count": 27,
   "metadata": {},
   "outputs": [
    {
     "data": {
      "text/plain": [
       "96"
      ]
     },
     "execution_count": 27,
     "metadata": {},
     "output_type": "execute_result"
    }
   ],
   "source": [
    "len(links_list4)"
   ]
  },
  {
   "cell_type": "code",
   "execution_count": 28,
   "metadata": {},
   "outputs": [],
   "source": [
    "url5 = \"https://market.yandex.ru/catalog--mobilnye-telefony/54726/list?cpa=0&hid=91491&onstock=1&page=5&local-offers-first=0\"\n",
    "links_list5 = get_smartphones(url5, links_list4)"
   ]
  },
  {
   "cell_type": "code",
   "execution_count": 29,
   "metadata": {},
   "outputs": [
    {
     "data": {
      "text/plain": [
       "142"
      ]
     },
     "execution_count": 29,
     "metadata": {},
     "output_type": "execute_result"
    }
   ],
   "source": [
    "len(links_list5)"
   ]
  },
  {
   "cell_type": "code",
   "execution_count": 30,
   "metadata": {},
   "outputs": [],
   "source": [
    "url6 = \"https://market.yandex.ru/catalog--mobilnye-telefony/54726/list?cpa=0&hid=91491&onstock=1&page=6&local-offers-first=0\"\n",
    "links_list6 = get_smartphones(url6, links_list5)"
   ]
  },
  {
   "cell_type": "code",
   "execution_count": 31,
   "metadata": {},
   "outputs": [
    {
     "data": {
      "text/plain": [
       "190"
      ]
     },
     "execution_count": 31,
     "metadata": {},
     "output_type": "execute_result"
    }
   ],
   "source": [
    "len(links_list6)"
   ]
  },
  {
   "cell_type": "markdown",
   "metadata": {},
   "source": [
    "The number_pages function calculates the number of pages with reviews for each smartphones. The logic: 10 reviews per page."
   ]
  },
  {
   "cell_type": "code",
   "execution_count": 32,
   "metadata": {},
   "outputs": [],
   "source": [
    "def number_pages(num_revies):\n",
    "    if (num_revies % 10) == 0:\n",
    "        num_pages = num_revies // 10\n",
    "    else:\n",
    "        num_pages = num_revies // 10 + 1\n",
    "    return num_pages"
   ]
  },
  {
   "cell_type": "code",
   "execution_count": 87,
   "metadata": {},
   "outputs": [],
   "source": [
    "def get_reviews(smartphones):\n",
    "    \n",
    "    driver = webdriver.Chrome('/Users/marinatrofimovich/studing/coursere_course/final_project/week6/chromedriver')\n",
    "    \n",
    "    for i, smartphone in enumerate(smartphones):\n",
    "        try:\n",
    "            # get the url to the page with current smartphone\n",
    "            url = smartphone\n",
    "            driver.get(url)\n",
    "        \n",
    "            time.sleep(10)\n",
    "            \n",
    "            # find the reviews-button and click it\n",
    "            li_element = driver.find_element_by_class_name(\"QjE88eF2HX\")\n",
    "            a_element = li_element.find_element_by_class_name(\"_2XmtVnQ64x\")\n",
    "            a_element.click()\n",
    "        \n",
    "            time.sleep(2)\n",
    "        \n",
    "            # for each smartphone get the number of reviwes\n",
    "            num_reviews_text = driver.find_elements_by_class_name(\"yVmxx3-ZVv\")\n",
    "            \n",
    "            # there are several elements of mentioned class on the page, we need the 3rd one of them\n",
    "            for i, num in enumerate(num_reviews_text):\n",
    "                if i == 2:\n",
    "                    num_reviews = num.text\n",
    "                    \n",
    "            # for each smartphone calculate the number of pages with reviwes\n",
    "            if (num_reviews != 0):\n",
    "                num_pages = number_pages(int(num_reviews))\n",
    "                    \n",
    "                # go through all pages with reviews\n",
    "                for num in range(1, num_pages + 1):\n",
    "                    try:\n",
    "                        \n",
    "                        time.sleep(1)\n",
    "                        \n",
    "                        # get review and score\n",
    "                        reviews_text = driver.find_elements_by_class_name(\"_3IXczk7DdZ\")\n",
    "                        scores_text = driver.find_elements_by_class_name(\"_2QBYNzUrMp\")\n",
    "                        \n",
    "                        # save them in the file\n",
    "                        for review, score in zip(reviews_text, scores_text):\n",
    "                            review_text = review.text\n",
    "                            sc = score.get_attribute(\"data-rate\")\n",
    "                            with open('train.json', 'a') as f:\n",
    "                                json.dump({'review': review_text, 'score': sc}, f, ensure_ascii=False)\n",
    "                                f.write('\\n')\n",
    "                        \n",
    "                        time.sleep(2)\n",
    "                        \n",
    "                        # if there are unviewed pages with the reviews click the \"Next page\" button\n",
    "                        if (num != num_pages):\n",
    "                            element = driver.find_element_by_class_name('_3OFYTyXi90')\n",
    "                            driver.execute_script(\"arguments[0].click();\", element)\n",
    "                            \n",
    "                    except Exception:\n",
    "                        pass\n",
    "                        \n",
    "        except Exception:\n",
    "            pass\n",
    "    "
   ]
  },
  {
   "cell_type": "code",
   "execution_count": 88,
   "metadata": {},
   "outputs": [],
   "source": [
    "get_reviews(links_list6)"
   ]
  },
  {
   "cell_type": "markdown",
   "metadata": {},
   "source": [
    "Now in the train.json file there are 24186 reviews and their scores on the smartphones were scraped out of Yandex market. They are saved in the format:\n",
    "\n",
    "$\\{\\text{\"review\": text1, \"score\":  mark1}\\}$ line feed $\\{\\text{\"review\": text2, \"score\":  mark2}\\}$, etc. \n",
    "\n",
    "We'll use them for further development of a sentiment prediction model."
   ]
  },
  {
   "cell_type": "code",
   "execution_count": null,
   "metadata": {},
   "outputs": [],
   "source": []
  }
 ],
 "metadata": {
  "kernelspec": {
   "display_name": "Python 3",
   "language": "python",
   "name": "python3"
  },
  "language_info": {
   "codemirror_mode": {
    "name": "ipython",
    "version": 3
   },
   "file_extension": ".py",
   "mimetype": "text/x-python",
   "name": "python",
   "nbconvert_exporter": "python",
   "pygments_lexer": "ipython3",
   "version": "3.8.3"
  }
 },
 "nbformat": 4,
 "nbformat_minor": 4
}
