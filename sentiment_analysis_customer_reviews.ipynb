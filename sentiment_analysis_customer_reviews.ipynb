{
 "cells": [
  {
   "cell_type": "markdown",
   "metadata": {},
   "source": [
    "# Development of sentiment analysis for the customer's task"
   ]
  },
  {
   "cell_type": "markdown",
   "metadata": {},
   "source": [
    "A customer came to your company and needs a solution of the problem of analyzing the sentiment of product reviews. The customer wants you to evaluate the possible performance of such an algorithm on a small test sample (without labels). No more data is provided to you.\n",
    "\n",
    "You have to look at the reviews provided by the customer, collect similar reviews as a training sample, and experiment with setting the problem (label positive and negative examples) so that the result on the customer's reviews is as good as possible (strictly more than 85%).\n",
    "\n",
    "Please note that the customer provided only 100 examples as a test sample. A situation when there is almost no labeled data, in general, is very common in industrial data analysis.\n",
    "\n",
    "This problem is stated as a Kaggle-competition https://www.kaggle.com/c/morecomplicatedsentiment.\n",
    "\n",
    "On this page you can find two files:\n",
    "\n",
    "- test.csv - the test sample in the format:\n",
    "\n",
    "$<review>$ review_text_1 $</review>$ two line feeds $<review>$ review_text_2 $</review>$, etc.\n",
    "\n",
    "- sample_submission.csv - the example of submission file, here you can see the required file format.\n",
    "\n",
    "All reviews and the original problem are stated in russian."
   ]
  },
  {
   "cell_type": "markdown",
   "metadata": {},
   "source": [
    "## 1. Data extraction and preparation"
   ]
  },
  {
   "cell_type": "code",
   "execution_count": 179,
   "metadata": {},
   "outputs": [],
   "source": [
    "import pandas as pd\n",
    "import seaborn as sns\n",
    "from sklearn.utils import shuffle\n",
    "import codecs\n",
    "from bs4 import BeautifulSoup\n",
    "from nltk.corpus import stopwords\n",
    "from sklearn.pipeline import Pipeline\n",
    "from sklearn.feature_extraction.text import CountVectorizer, TfidfTransformer\n",
    "from sklearn.svm import LinearSVC\n",
    "from sklearn.model_selection import RandomizedSearchCV, cross_val_score\n",
    "import pickle\n",
    "import joblib\n",
    "import warnings\n",
    "warnings.filterwarnings(\"ignore\")"
   ]
  },
  {
   "cell_type": "markdown",
   "metadata": {},
   "source": [
    "Upload scraped reviews and their scores form Yandex market. Removing duplicates we get 21310 unique reviews."
   ]
  },
  {
   "cell_type": "code",
   "execution_count": 180,
   "metadata": {},
   "outputs": [],
   "source": [
    "train = pd.read_json('train.json', orient='records', lines=True).drop_duplicates()"
   ]
  },
  {
   "cell_type": "code",
   "execution_count": 181,
   "metadata": {},
   "outputs": [
    {
     "data": {
      "text/html": [
       "<div>\n",
       "<style scoped>\n",
       "    .dataframe tbody tr th:only-of-type {\n",
       "        vertical-align: middle;\n",
       "    }\n",
       "\n",
       "    .dataframe tbody tr th {\n",
       "        vertical-align: top;\n",
       "    }\n",
       "\n",
       "    .dataframe thead th {\n",
       "        text-align: right;\n",
       "    }\n",
       "</style>\n",
       "<table border=\"1\" class=\"dataframe\">\n",
       "  <thead>\n",
       "    <tr style=\"text-align: right;\">\n",
       "      <th></th>\n",
       "      <th>review</th>\n",
       "      <th>score</th>\n",
       "    </tr>\n",
       "  </thead>\n",
       "  <tbody>\n",
       "    <tr>\n",
       "      <th>0</th>\n",
       "      <td>Достоинства:\\n• Батарея 6000 мАч\\n• Стерео дин...</td>\n",
       "      <td>4</td>\n",
       "    </tr>\n",
       "    <tr>\n",
       "      <th>1</th>\n",
       "      <td>Достоинства: Долгое время автономной работы; с...</td>\n",
       "      <td>5</td>\n",
       "    </tr>\n",
       "    <tr>\n",
       "      <th>2</th>\n",
       "      <td>Достоинства: Большой экран, громкий, и долго д...</td>\n",
       "      <td>5</td>\n",
       "    </tr>\n",
       "    <tr>\n",
       "      <th>3</th>\n",
       "      <td>Достоинства: Энергоемкость батареи и производи...</td>\n",
       "      <td>5</td>\n",
       "    </tr>\n",
       "    <tr>\n",
       "      <th>4</th>\n",
       "      <td>Достоинства: Долго держит заряд, большая вмест...</td>\n",
       "      <td>5</td>\n",
       "    </tr>\n",
       "    <tr>\n",
       "      <th>...</th>\n",
       "      <td>...</td>\n",
       "      <td>...</td>\n",
       "    </tr>\n",
       "    <tr>\n",
       "      <th>24181</th>\n",
       "      <td>Достоинства: Интернет не томозит\\nНедостатки: ...</td>\n",
       "      <td>4</td>\n",
       "    </tr>\n",
       "    <tr>\n",
       "      <th>24182</th>\n",
       "      <td>Недостатки: я его потерял</td>\n",
       "      <td>4</td>\n",
       "    </tr>\n",
       "    <tr>\n",
       "      <th>24183</th>\n",
       "      <td>Достоинства: Хороший не дорогой</td>\n",
       "      <td>5</td>\n",
       "    </tr>\n",
       "    <tr>\n",
       "      <th>24184</th>\n",
       "      <td>Достоинства: Цена, память</td>\n",
       "      <td>5</td>\n",
       "    </tr>\n",
       "    <tr>\n",
       "      <th>24185</th>\n",
       "      <td>достоин своей цены</td>\n",
       "      <td>5</td>\n",
       "    </tr>\n",
       "  </tbody>\n",
       "</table>\n",
       "<p>21310 rows × 2 columns</p>\n",
       "</div>"
      ],
      "text/plain": [
       "                                                  review  score\n",
       "0      Достоинства:\\n• Батарея 6000 мАч\\n• Стерео дин...      4\n",
       "1      Достоинства: Долгое время автономной работы; с...      5\n",
       "2      Достоинства: Большой экран, громкий, и долго д...      5\n",
       "3      Достоинства: Энергоемкость батареи и производи...      5\n",
       "4      Достоинства: Долго держит заряд, большая вмест...      5\n",
       "...                                                  ...    ...\n",
       "24181  Достоинства: Интернет не томозит\\nНедостатки: ...      4\n",
       "24182                          Недостатки: я его потерял      4\n",
       "24183                    Достоинства: Хороший не дорогой      5\n",
       "24184                          Достоинства: Цена, память      5\n",
       "24185                                 достоин своей цены      5\n",
       "\n",
       "[21310 rows x 2 columns]"
      ]
     },
     "execution_count": 181,
     "metadata": {},
     "output_type": "execute_result"
    }
   ],
   "source": [
    "train"
   ]
  },
  {
   "cell_type": "code",
   "execution_count": 182,
   "metadata": {},
   "outputs": [
    {
     "data": {
      "text/plain": [
       "review    0\n",
       "score     0\n",
       "dtype: int64"
      ]
     },
     "execution_count": 182,
     "metadata": {},
     "output_type": "execute_result"
    }
   ],
   "source": [
    "train.isnull().sum()"
   ]
  },
  {
   "cell_type": "markdown",
   "metadata": {},
   "source": [
    "Now we need to clean the reviews.\n",
    "\n",
    "Each review consists of 3 parts: \"Advantages\", \"Disadvantages\" and \"Comment\".\n",
    "\n",
    "The following strategy was chosen.\n",
    "\n",
    "For the smartphones with the score \"5\" we extract from the original review only advantages. If there is no advantages we extract \"Comment\". If there is no comment we replace the review by the empty string. If the review contains nothing we leave it as it is.\n",
    "For the smartphones with the score less than \"5\" we extract from the original review only disadvantages. If there is no disadvantages we extract \"Comment\". If there is no comment we replace the review by the empty string. If the review contains nothing we leave it as it is."
   ]
  },
  {
   "cell_type": "code",
   "execution_count": 183,
   "metadata": {},
   "outputs": [],
   "source": [
    "def clean_review(scores, reviews):\n",
    "    for i, score in enumerate(scores):\n",
    "        try:\n",
    "            if score == 5:\n",
    "                if (\"Достоинства:\" in reviews[i]) and (\"Недостатки:\" in reviews[i]) and (\"Комментарий:\" in reviews[i]):\n",
    "                    reviews[i] = reviews[i] = reviews[i].split(\"Недостатки:\")[0].split(\"Достоинства:\")[1]\n",
    "                elif (\"Достоинства:\" in reviews[i]) and (\"Недостатки:\" not in reviews[i]) and (\"Комментарий:\" not in reviews[i]):\n",
    "                    reviews[i] = reviews[i].split(\"Достоинства:\")[1]\n",
    "                elif (\"Достоинства:\" not in reviews[i]) and (\"Недостатки:\" in reviews[i]) and (\"Комментарий:\" not in reviews[i]):\n",
    "                    reviews[i] = \"\"\n",
    "                elif (\"Достоинства:\" not in reviews[i]) and (\"Недостатки:\" not in reviews[i]) and (\"Комментарий:\" in reviews[i]):\n",
    "                    reviews[i] = reviews[i].split(\"Комментарий:\")[1]\n",
    "                elif (\"Достоинства:\" in reviews[i]) and (\"Недостатки:\" in reviews[i]) and (\"Комментарий:\" not in reviews[i]):\n",
    "                    reviews[i] = reviews[i].split(\"Недостатки:\")[0].split(\"Достоинства:\")[1]\n",
    "                elif (\"Достоинства:\" in reviews[i]) and (\"Недостатки:\" not in reviews[i]) and (\"Комментарий:\" in reviews[i]):\n",
    "                    reviews[i] = reviews[i].split(\"Комментарий:\")[0].split(\"Достоинства:\")[1]\n",
    "                elif (\"Достоинства:\" not in reviews[i]) and (\"Недостатки:\" in reviews[i]) and (\"Комментарий:\" in reviews[i]):\n",
    "                    reviews[i] = reviews[i].split(\"Комментарий:\")[1]\n",
    "                else:\n",
    "                    reviews[i] = reviews[i]\n",
    "            else:\n",
    "                if (\"Достоинства:\" in reviews[i]) and (\"Недостатки:\" in reviews[i]) and (\"Комментарий\" in reviews[i]):\n",
    "                    reviews[i] = reviews[i].split(\"Недостатки:\")[1].split(\"Комментарий:\")[0]\n",
    "                elif (\"Достоинства:\" in reviews[i]) and (\"Недостатки:\" not in reviews[i]) and (\"Комментарий:\" not in reviews[i]):\n",
    "                    reviews[i] = \"\"\n",
    "                elif (\"Достоинства:\" not in reviews[i]) and (\"Недостатки:\" in reviews[i]) and (\"Комментарий:\" not in reviews[i]):\n",
    "                    reviews[i] = reviews[i].split(\"Недостатки:\")[1]\n",
    "                elif (\"Достоинства:\" not in reviews[i]) and (\"Недостатки:\" not in reviews[i]) and (\"Комментарий:\" in reviews[i]):\n",
    "                    reviews[i] = reviews[i].split(\"Комментарий:\")[1]\n",
    "                elif (\"Достоинства:\" in reviews[i]) and (\"Недостатки:\" in reviews[i]) and (\"Комментарий:\" not in reviews[i]):\n",
    "                    reviews[i] = reviews[i].split(\"Недостатки:\")[1]\n",
    "                elif (\"Достоинства:\" in reviews[i]) and (\"Недостатки:\" not in reviews[i]) and (\"Комментарий:\" in reviews[i]):\n",
    "                    reviews[i] = reviews[i].split(\"Комментарий:\")[1]\n",
    "                elif (\"Достоинства:\" not in reviews[i]) and (\"Недостатки:\" in reviews[i]) and (\"Комментарий:\" in reviews[i]):\n",
    "                    reviews[i] = reviews[i].split(\"Комментарий:\")[0].split(\"Недостатки:\")[1]\n",
    "                else:\n",
    "                    reviews[i] = reviews[i]\n",
    "            reviews[i] = reviews[i].replace(\"\\n\", \" \")\n",
    "        except Exception:\n",
    "            pass\n",
    "    df = pd.concat([pd.Series(scores), pd.Series(reviews)], axis=1)\n",
    "    df.columns = ['scores','reviews']\n",
    "    \n",
    "    return df"
   ]
  },
  {
   "cell_type": "markdown",
   "metadata": {},
   "source": [
    "Clean the reviews."
   ]
  },
  {
   "cell_type": "code",
   "execution_count": 184,
   "metadata": {},
   "outputs": [
    {
     "data": {
      "text/html": [
       "<div>\n",
       "<style scoped>\n",
       "    .dataframe tbody tr th:only-of-type {\n",
       "        vertical-align: middle;\n",
       "    }\n",
       "\n",
       "    .dataframe tbody tr th {\n",
       "        vertical-align: top;\n",
       "    }\n",
       "\n",
       "    .dataframe thead th {\n",
       "        text-align: right;\n",
       "    }\n",
       "</style>\n",
       "<table border=\"1\" class=\"dataframe\">\n",
       "  <thead>\n",
       "    <tr style=\"text-align: right;\">\n",
       "      <th></th>\n",
       "      <th>scores</th>\n",
       "      <th>reviews</th>\n",
       "    </tr>\n",
       "  </thead>\n",
       "  <tbody>\n",
       "    <tr>\n",
       "      <th>0</th>\n",
       "      <td>4</td>\n",
       "      <td>• Отсутствие NFC • Отсутствие какой-либо влаг...</td>\n",
       "    </tr>\n",
       "    <tr>\n",
       "      <th>1</th>\n",
       "      <td>5</td>\n",
       "      <td>Долгое время автономной работы; стереодинамики</td>\n",
       "    </tr>\n",
       "    <tr>\n",
       "      <th>2</th>\n",
       "      <td>5</td>\n",
       "      <td>Большой экран, громкий, и долго держит заряд.</td>\n",
       "    </tr>\n",
       "    <tr>\n",
       "      <th>3</th>\n",
       "      <td>5</td>\n",
       "      <td>Энергоемкость батареи и производительность</td>\n",
       "    </tr>\n",
       "    <tr>\n",
       "      <th>4</th>\n",
       "      <td>5</td>\n",
       "      <td>Долго держит заряд, большая вместимость пямят...</td>\n",
       "    </tr>\n",
       "    <tr>\n",
       "      <th>...</th>\n",
       "      <td>...</td>\n",
       "      <td>...</td>\n",
       "    </tr>\n",
       "    <tr>\n",
       "      <th>21305</th>\n",
       "      <td>4</td>\n",
       "      <td>Расположение кнопок, камеры, динамика, но это...</td>\n",
       "    </tr>\n",
       "    <tr>\n",
       "      <th>21306</th>\n",
       "      <td>4</td>\n",
       "      <td>я его потерял</td>\n",
       "    </tr>\n",
       "    <tr>\n",
       "      <th>21307</th>\n",
       "      <td>5</td>\n",
       "      <td>Хороший не дорогой</td>\n",
       "    </tr>\n",
       "    <tr>\n",
       "      <th>21308</th>\n",
       "      <td>5</td>\n",
       "      <td>Цена, память</td>\n",
       "    </tr>\n",
       "    <tr>\n",
       "      <th>21309</th>\n",
       "      <td>5</td>\n",
       "      <td>достоин своей цены</td>\n",
       "    </tr>\n",
       "  </tbody>\n",
       "</table>\n",
       "<p>21310 rows × 2 columns</p>\n",
       "</div>"
      ],
      "text/plain": [
       "       scores                                            reviews\n",
       "0           4   • Отсутствие NFC • Отсутствие какой-либо влаг...\n",
       "1           5    Долгое время автономной работы; стереодинамики \n",
       "2           5     Большой экран, громкий, и долго держит заряд. \n",
       "3           5        Энергоемкость батареи и производительность \n",
       "4           5   Долго держит заряд, большая вместимость пямят...\n",
       "...       ...                                                ...\n",
       "21305       4   Расположение кнопок, камеры, динамика, но это...\n",
       "21306       4                                      я его потерял\n",
       "21307       5                                 Хороший не дорогой\n",
       "21308       5                                       Цена, память\n",
       "21309       5                                 достоин своей цены\n",
       "\n",
       "[21310 rows x 2 columns]"
      ]
     },
     "execution_count": 184,
     "metadata": {},
     "output_type": "execute_result"
    }
   ],
   "source": [
    "train_clean = clean_review(train[\"score\"].values, train[\"review\"].values)\n",
    "train_clean"
   ]
  },
  {
   "cell_type": "markdown",
   "metadata": {},
   "source": [
    "Add to the dataframe with reviews two columns: the \"length\" column with the the number of symbols in the review; the \"label\" column with the \"1\" for reviews with the \"5\" score and \"0\" for the reviews with the score less than \"5\"."
   ]
  },
  {
   "cell_type": "code",
   "execution_count": 185,
   "metadata": {},
   "outputs": [],
   "source": [
    "train_clean['length'] = train_clean['reviews'].apply(lambda x: len(x))\n",
    "train_clean['label'] = train_clean['scores'].apply(lambda x: int(x == 5))"
   ]
  },
  {
   "cell_type": "code",
   "execution_count": 186,
   "metadata": {},
   "outputs": [
    {
     "data": {
      "text/html": [
       "<div>\n",
       "<style scoped>\n",
       "    .dataframe tbody tr th:only-of-type {\n",
       "        vertical-align: middle;\n",
       "    }\n",
       "\n",
       "    .dataframe tbody tr th {\n",
       "        vertical-align: top;\n",
       "    }\n",
       "\n",
       "    .dataframe thead th {\n",
       "        text-align: right;\n",
       "    }\n",
       "</style>\n",
       "<table border=\"1\" class=\"dataframe\">\n",
       "  <thead>\n",
       "    <tr style=\"text-align: right;\">\n",
       "      <th></th>\n",
       "      <th>scores</th>\n",
       "      <th>reviews</th>\n",
       "      <th>length</th>\n",
       "      <th>label</th>\n",
       "    </tr>\n",
       "  </thead>\n",
       "  <tbody>\n",
       "    <tr>\n",
       "      <th>0</th>\n",
       "      <td>4</td>\n",
       "      <td>• Отсутствие NFC • Отсутствие какой-либо влаг...</td>\n",
       "      <td>225</td>\n",
       "      <td>0</td>\n",
       "    </tr>\n",
       "    <tr>\n",
       "      <th>1</th>\n",
       "      <td>5</td>\n",
       "      <td>Долгое время автономной работы; стереодинамики</td>\n",
       "      <td>48</td>\n",
       "      <td>1</td>\n",
       "    </tr>\n",
       "    <tr>\n",
       "      <th>2</th>\n",
       "      <td>5</td>\n",
       "      <td>Большой экран, громкий, и долго держит заряд.</td>\n",
       "      <td>47</td>\n",
       "      <td>1</td>\n",
       "    </tr>\n",
       "    <tr>\n",
       "      <th>3</th>\n",
       "      <td>5</td>\n",
       "      <td>Энергоемкость батареи и производительность</td>\n",
       "      <td>44</td>\n",
       "      <td>1</td>\n",
       "    </tr>\n",
       "    <tr>\n",
       "      <th>4</th>\n",
       "      <td>5</td>\n",
       "      <td>Долго держит заряд, большая вместимость пямят...</td>\n",
       "      <td>76</td>\n",
       "      <td>1</td>\n",
       "    </tr>\n",
       "    <tr>\n",
       "      <th>...</th>\n",
       "      <td>...</td>\n",
       "      <td>...</td>\n",
       "      <td>...</td>\n",
       "      <td>...</td>\n",
       "    </tr>\n",
       "    <tr>\n",
       "      <th>21305</th>\n",
       "      <td>4</td>\n",
       "      <td>Расположение кнопок, камеры, динамика, но это...</td>\n",
       "      <td>58</td>\n",
       "      <td>0</td>\n",
       "    </tr>\n",
       "    <tr>\n",
       "      <th>21306</th>\n",
       "      <td>4</td>\n",
       "      <td>я его потерял</td>\n",
       "      <td>14</td>\n",
       "      <td>0</td>\n",
       "    </tr>\n",
       "    <tr>\n",
       "      <th>21307</th>\n",
       "      <td>5</td>\n",
       "      <td>Хороший не дорогой</td>\n",
       "      <td>19</td>\n",
       "      <td>1</td>\n",
       "    </tr>\n",
       "    <tr>\n",
       "      <th>21308</th>\n",
       "      <td>5</td>\n",
       "      <td>Цена, память</td>\n",
       "      <td>13</td>\n",
       "      <td>1</td>\n",
       "    </tr>\n",
       "    <tr>\n",
       "      <th>21309</th>\n",
       "      <td>5</td>\n",
       "      <td>достоин своей цены</td>\n",
       "      <td>18</td>\n",
       "      <td>1</td>\n",
       "    </tr>\n",
       "  </tbody>\n",
       "</table>\n",
       "<p>21310 rows × 4 columns</p>\n",
       "</div>"
      ],
      "text/plain": [
       "       scores                                            reviews  length  \\\n",
       "0           4   • Отсутствие NFC • Отсутствие какой-либо влаг...     225   \n",
       "1           5    Долгое время автономной работы; стереодинамики       48   \n",
       "2           5     Большой экран, громкий, и долго держит заряд.       47   \n",
       "3           5        Энергоемкость батареи и производительность       44   \n",
       "4           5   Долго держит заряд, большая вместимость пямят...      76   \n",
       "...       ...                                                ...     ...   \n",
       "21305       4   Расположение кнопок, камеры, динамика, но это...      58   \n",
       "21306       4                                      я его потерял      14   \n",
       "21307       5                                 Хороший не дорогой      19   \n",
       "21308       5                                       Цена, память      13   \n",
       "21309       5                                 достоин своей цены      18   \n",
       "\n",
       "       label  \n",
       "0          0  \n",
       "1          1  \n",
       "2          1  \n",
       "3          1  \n",
       "4          1  \n",
       "...      ...  \n",
       "21305      0  \n",
       "21306      0  \n",
       "21307      1  \n",
       "21308      1  \n",
       "21309      1  \n",
       "\n",
       "[21310 rows x 4 columns]"
      ]
     },
     "execution_count": 186,
     "metadata": {},
     "output_type": "execute_result"
    }
   ],
   "source": [
    "train_clean"
   ]
  },
  {
   "cell_type": "markdown",
   "metadata": {},
   "source": [
    "Let see the scores distribution."
   ]
  },
  {
   "cell_type": "code",
   "execution_count": 187,
   "metadata": {},
   "outputs": [
    {
     "data": {
      "image/png": "[encoded data removed]",
      "text/plain": [
       "<Figure size 720x576 with 1 Axes>"
      ]
     },
     "metadata": {
      "needs_background": "light"
     },
     "output_type": "display_data"
    }
   ],
   "source": [
    "fig = plt.figure(figsize=(10, 8))\n",
    "sns.countplot(x='scores', data=train_clean);\n",
    "plt.title(\"Scores distribution\");\n",
    "plt.xlabel(\"Scores\");\n",
    "plt.ylabel(\"Number of reviews\");\n"
   ]
  },
  {
   "cell_type": "code",
   "execution_count": 188,
   "metadata": {},
   "outputs": [
    {
     "data": {
      "text/plain": [
       "5    15020\n",
       "4     3016\n",
       "3     1489\n",
       "1     1066\n",
       "2      719\n",
       "Name: scores, dtype: int64"
      ]
     },
     "execution_count": 188,
     "metadata": {},
     "output_type": "execute_result"
    }
   ],
   "source": [
    "train_clean[\"scores\"].value_counts()"
   ]
  },
  {
   "cell_type": "markdown",
   "metadata": {},
   "source": [
    "We see that the overwhelming majority of reviews (15020 from 21310) have score \"5\".\n",
    "\n",
    "There are not so many negative reviews (with score \"1\" - 1066, with score \"2\" - 719, with score \"3\" - 1489).\n",
    "\n",
    "Reviews with the score \"4\" are borderline. We prefer to avoid them.\n",
    "\n",
    "Let choose as negative the reviews with the scores \"1\", \"2\" and \"3\". There are in total 3274 such reviews."
   ]
  },
  {
   "cell_type": "code",
   "execution_count": 189,
   "metadata": {},
   "outputs": [
    {
     "data": {
      "text/html": [
       "<div>\n",
       "<style scoped>\n",
       "    .dataframe tbody tr th:only-of-type {\n",
       "        vertical-align: middle;\n",
       "    }\n",
       "\n",
       "    .dataframe tbody tr th {\n",
       "        vertical-align: top;\n",
       "    }\n",
       "\n",
       "    .dataframe thead th {\n",
       "        text-align: right;\n",
       "    }\n",
       "</style>\n",
       "<table border=\"1\" class=\"dataframe\">\n",
       "  <thead>\n",
       "    <tr style=\"text-align: right;\">\n",
       "      <th></th>\n",
       "      <th>scores</th>\n",
       "      <th>reviews</th>\n",
       "      <th>length</th>\n",
       "      <th>label</th>\n",
       "    </tr>\n",
       "  </thead>\n",
       "  <tbody>\n",
       "    <tr>\n",
       "      <th>7</th>\n",
       "      <td>3</td>\n",
       "      <td>Тяжелый, причем очень</td>\n",
       "      <td>23</td>\n",
       "      <td>0</td>\n",
       "    </tr>\n",
       "    <tr>\n",
       "      <th>9</th>\n",
       "      <td>3</td>\n",
       "      <td>Дизайн. Корпус</td>\n",
       "      <td>16</td>\n",
       "      <td>0</td>\n",
       "    </tr>\n",
       "    <tr>\n",
       "      <th>21</th>\n",
       "      <td>3</td>\n",
       "      <td>- Сканер отпечатка пальцев - Распознавание ли...</td>\n",
       "      <td>111</td>\n",
       "      <td>0</td>\n",
       "    </tr>\n",
       "    <tr>\n",
       "      <th>50</th>\n",
       "      <td>1</td>\n",
       "      <td>Быстро разряжается,сильно глючит. Камера пери...</td>\n",
       "      <td>94</td>\n",
       "      <td>0</td>\n",
       "    </tr>\n",
       "    <tr>\n",
       "      <th>59</th>\n",
       "      <td>3</td>\n",
       "      <td>Выглядит хлипко (но собран хорошо), является ...</td>\n",
       "      <td>477</td>\n",
       "      <td>0</td>\n",
       "    </tr>\n",
       "    <tr>\n",
       "      <th>...</th>\n",
       "      <td>...</td>\n",
       "      <td>...</td>\n",
       "      <td>...</td>\n",
       "      <td>...</td>\n",
       "    </tr>\n",
       "    <tr>\n",
       "      <th>21287</th>\n",
       "      <td>2</td>\n",
       "      <td>Отсутствует запись телефонного разговора, нет...</td>\n",
       "      <td>88</td>\n",
       "      <td>0</td>\n",
       "    </tr>\n",
       "    <tr>\n",
       "      <th>21288</th>\n",
       "      <td>1</td>\n",
       "      <td>Телефон брал как обычную звонилку по работе.....</td>\n",
       "      <td>1234</td>\n",
       "      <td>0</td>\n",
       "    </tr>\n",
       "    <tr>\n",
       "      <th>21294</th>\n",
       "      <td>2</td>\n",
       "      <td>батарейка при использовании интернета тает на...</td>\n",
       "      <td>240</td>\n",
       "      <td>0</td>\n",
       "    </tr>\n",
       "    <tr>\n",
       "      <th>21297</th>\n",
       "      <td>2</td>\n",
       "      <td>Всё! Это полный отстой! Во первых: брак - не ...</td>\n",
       "      <td>452</td>\n",
       "      <td>0</td>\n",
       "    </tr>\n",
       "    <tr>\n",
       "      <th>21298</th>\n",
       "      <td>3</td>\n",
       "      <td>До достоинств дойти не получилось. В характери...</td>\n",
       "      <td>354</td>\n",
       "      <td>0</td>\n",
       "    </tr>\n",
       "  </tbody>\n",
       "</table>\n",
       "<p>3274 rows × 4 columns</p>\n",
       "</div>"
      ],
      "text/plain": [
       "       scores                                            reviews  length  \\\n",
       "7           3                             Тяжелый, причем очень       23   \n",
       "9           3                                    Дизайн. Корпус       16   \n",
       "21          3   - Сканер отпечатка пальцев - Распознавание ли...     111   \n",
       "50          1   Быстро разряжается,сильно глючит. Камера пери...      94   \n",
       "59          3   Выглядит хлипко (но собран хорошо), является ...     477   \n",
       "...       ...                                                ...     ...   \n",
       "21287       2   Отсутствует запись телефонного разговора, нет...      88   \n",
       "21288       1   Телефон брал как обычную звонилку по работе.....    1234   \n",
       "21294       2   батарейка при использовании интернета тает на...     240   \n",
       "21297       2   Всё! Это полный отстой! Во первых: брак - не ...     452   \n",
       "21298       3  До достоинств дойти не получилось. В характери...     354   \n",
       "\n",
       "       label  \n",
       "7          0  \n",
       "9          0  \n",
       "21         0  \n",
       "50         0  \n",
       "59         0  \n",
       "...      ...  \n",
       "21287      0  \n",
       "21288      0  \n",
       "21294      0  \n",
       "21297      0  \n",
       "21298      0  \n",
       "\n",
       "[3274 rows x 4 columns]"
      ]
     },
     "execution_count": 189,
     "metadata": {},
     "output_type": "execute_result"
    }
   ],
   "source": [
    "reviews_neg = pd.concat([train_clean[(train_clean['scores'] == 1) | (train_clean['scores'] == 2) | (train_clean['scores'] == 3)]])\n",
    "reviews_neg"
   ]
  },
  {
   "cell_type": "markdown",
   "metadata": {},
   "source": [
    "Let choose approximately the same number of positive reviews (with the score \"5\") with the length as large as possible (to get more detailed descriptions). In this way we'll get the balanced data."
   ]
  },
  {
   "cell_type": "code",
   "execution_count": 190,
   "metadata": {},
   "outputs": [
    {
     "data": {
      "text/html": [
       "<div>\n",
       "<style scoped>\n",
       "    .dataframe tbody tr th:only-of-type {\n",
       "        vertical-align: middle;\n",
       "    }\n",
       "\n",
       "    .dataframe tbody tr th {\n",
       "        vertical-align: top;\n",
       "    }\n",
       "\n",
       "    .dataframe thead th {\n",
       "        text-align: right;\n",
       "    }\n",
       "</style>\n",
       "<table border=\"1\" class=\"dataframe\">\n",
       "  <thead>\n",
       "    <tr style=\"text-align: right;\">\n",
       "      <th></th>\n",
       "      <th>scores</th>\n",
       "      <th>reviews</th>\n",
       "      <th>length</th>\n",
       "      <th>label</th>\n",
       "    </tr>\n",
       "  </thead>\n",
       "  <tbody>\n",
       "    <tr>\n",
       "      <th>12</th>\n",
       "      <td>5</td>\n",
       "      <td>Отличный мощный аппарат, к преимуществам отне...</td>\n",
       "      <td>391</td>\n",
       "      <td>1</td>\n",
       "    </tr>\n",
       "    <tr>\n",
       "      <th>29</th>\n",
       "      <td>5</td>\n",
       "      <td>Телефон отличный,на Беру цена просто сказочна...</td>\n",
       "      <td>201</td>\n",
       "      <td>1</td>\n",
       "    </tr>\n",
       "    <tr>\n",
       "      <th>53</th>\n",
       "      <td>5</td>\n",
       "      <td>1. Отличный экран. Фронтальная камера настоль...</td>\n",
       "      <td>430</td>\n",
       "      <td>1</td>\n",
       "    </tr>\n",
       "    <tr>\n",
       "      <th>55</th>\n",
       "      <td>5</td>\n",
       "      <td>Дизайн Экран Звук (достаточно громкий, но дин...</td>\n",
       "      <td>181</td>\n",
       "      <td>1</td>\n",
       "    </tr>\n",
       "    <tr>\n",
       "      <th>56</th>\n",
       "      <td>5</td>\n",
       "      <td>1. Камера достойная (сравнивая с 11 айфоном, ...</td>\n",
       "      <td>296</td>\n",
       "      <td>1</td>\n",
       "    </tr>\n",
       "    <tr>\n",
       "      <th>...</th>\n",
       "      <td>...</td>\n",
       "      <td>...</td>\n",
       "      <td>...</td>\n",
       "      <td>...</td>\n",
       "    </tr>\n",
       "    <tr>\n",
       "      <th>21283</th>\n",
       "      <td>5</td>\n",
       "      <td>На борту андроид, можно поставить некоторые п...</td>\n",
       "      <td>743</td>\n",
       "      <td>1</td>\n",
       "    </tr>\n",
       "    <tr>\n",
       "      <th>21285</th>\n",
       "      <td>5</td>\n",
       "      <td>Брал за 1990 в МТС. Дешевле модема, без привя...</td>\n",
       "      <td>178</td>\n",
       "      <td>1</td>\n",
       "    </tr>\n",
       "    <tr>\n",
       "      <th>21286</th>\n",
       "      <td>5</td>\n",
       "      <td>+ Полноценная адресная книга, ограниченная то...</td>\n",
       "      <td>764</td>\n",
       "      <td>1</td>\n",
       "    </tr>\n",
       "    <tr>\n",
       "      <th>21290</th>\n",
       "      <td>5</td>\n",
       "      <td>Искал кнопочный телефон для пожилого человека...</td>\n",
       "      <td>207</td>\n",
       "      <td>1</td>\n",
       "    </tr>\n",
       "    <tr>\n",
       "      <th>21300</th>\n",
       "      <td>5</td>\n",
       "      <td>Цена. Бюджетник со всеми современными функция...</td>\n",
       "      <td>201</td>\n",
       "      <td>1</td>\n",
       "    </tr>\n",
       "  </tbody>\n",
       "</table>\n",
       "<p>3271 rows × 4 columns</p>\n",
       "</div>"
      ],
      "text/plain": [
       "       scores                                            reviews  length  \\\n",
       "12          5   Отличный мощный аппарат, к преимуществам отне...     391   \n",
       "29          5   Телефон отличный,на Беру цена просто сказочна...     201   \n",
       "53          5   1. Отличный экран. Фронтальная камера настоль...     430   \n",
       "55          5   Дизайн Экран Звук (достаточно громкий, но дин...     181   \n",
       "56          5   1. Камера достойная (сравнивая с 11 айфоном, ...     296   \n",
       "...       ...                                                ...     ...   \n",
       "21283       5   На борту андроид, можно поставить некоторые п...     743   \n",
       "21285       5   Брал за 1990 в МТС. Дешевле модема, без привя...     178   \n",
       "21286       5   + Полноценная адресная книга, ограниченная то...     764   \n",
       "21290       5   Искал кнопочный телефон для пожилого человека...     207   \n",
       "21300       5   Цена. Бюджетник со всеми современными функция...     201   \n",
       "\n",
       "       label  \n",
       "12         1  \n",
       "29         1  \n",
       "53         1  \n",
       "55         1  \n",
       "56         1  \n",
       "...      ...  \n",
       "21283      1  \n",
       "21285      1  \n",
       "21286      1  \n",
       "21290      1  \n",
       "21300      1  \n",
       "\n",
       "[3271 rows x 4 columns]"
      ]
     },
     "execution_count": 190,
     "metadata": {},
     "output_type": "execute_result"
    }
   ],
   "source": [
    "reviews_pos = train_clean[(train_clean[\"length\"] > 177) & (train_clean[\"scores\"] == 5)]\n",
    "reviews_pos"
   ]
  },
  {
   "cell_type": "markdown",
   "metadata": {},
   "source": [
    "Concat and shuffle the chosen reviews. Finally, we get 6546 reviews which we'll use for our sentiment prediction model."
   ]
  },
  {
   "cell_type": "code",
   "execution_count": 191,
   "metadata": {},
   "outputs": [],
   "source": [
    "data = shuffle(pd.concat([reviews_neg, reviews_pos]))"
   ]
  },
  {
   "cell_type": "code",
   "execution_count": 192,
   "metadata": {},
   "outputs": [
    {
     "data": {
      "text/html": [
       "<div>\n",
       "<style scoped>\n",
       "    .dataframe tbody tr th:only-of-type {\n",
       "        vertical-align: middle;\n",
       "    }\n",
       "\n",
       "    .dataframe tbody tr th {\n",
       "        vertical-align: top;\n",
       "    }\n",
       "\n",
       "    .dataframe thead th {\n",
       "        text-align: right;\n",
       "    }\n",
       "</style>\n",
       "<table border=\"1\" class=\"dataframe\">\n",
       "  <thead>\n",
       "    <tr style=\"text-align: right;\">\n",
       "      <th></th>\n",
       "      <th>scores</th>\n",
       "      <th>reviews</th>\n",
       "      <th>length</th>\n",
       "      <th>label</th>\n",
       "    </tr>\n",
       "  </thead>\n",
       "  <tbody>\n",
       "    <tr>\n",
       "      <th>6579</th>\n",
       "      <td>3</td>\n",
       "      <td>Смартфон включается еще и от тряски. Нескольк...</td>\n",
       "      <td>166</td>\n",
       "      <td>0</td>\n",
       "    </tr>\n",
       "    <tr>\n",
       "      <th>15659</th>\n",
       "      <td>5</td>\n",
       "      <td>Уверенный прием. Достаточное количество опера...</td>\n",
       "      <td>253</td>\n",
       "      <td>1</td>\n",
       "    </tr>\n",
       "    <tr>\n",
       "      <th>5760</th>\n",
       "      <td>5</td>\n",
       "      <td>Оптимальный размер. Большой экран и не лопата...</td>\n",
       "      <td>207</td>\n",
       "      <td>1</td>\n",
       "    </tr>\n",
       "    <tr>\n",
       "      <th>392</th>\n",
       "      <td>1</td>\n",
       "      <td>Телефон сконструирован без датчика приближения...</td>\n",
       "      <td>195</td>\n",
       "      <td>0</td>\n",
       "    </tr>\n",
       "    <tr>\n",
       "      <th>7117</th>\n",
       "      <td>5</td>\n",
       "      <td>Меня устраивает . Покупал потому что , старый ...</td>\n",
       "      <td>185</td>\n",
       "      <td>1</td>\n",
       "    </tr>\n",
       "    <tr>\n",
       "      <th>...</th>\n",
       "      <td>...</td>\n",
       "      <td>...</td>\n",
       "      <td>...</td>\n",
       "      <td>...</td>\n",
       "    </tr>\n",
       "    <tr>\n",
       "      <th>16675</th>\n",
       "      <td>5</td>\n",
       "      <td>- Огромная батарея. Держит заряд два дня. - В...</td>\n",
       "      <td>334</td>\n",
       "      <td>1</td>\n",
       "    </tr>\n",
       "    <tr>\n",
       "      <th>7219</th>\n",
       "      <td>5</td>\n",
       "      <td>3 года пользовался 7 Plus, решил перейти на 1...</td>\n",
       "      <td>1127</td>\n",
       "      <td>1</td>\n",
       "    </tr>\n",
       "    <tr>\n",
       "      <th>3001</th>\n",
       "      <td>3</td>\n",
       "      <td>Плохо держит заряд, садится на глазах, и это ...</td>\n",
       "      <td>151</td>\n",
       "      <td>0</td>\n",
       "    </tr>\n",
       "    <tr>\n",
       "      <th>16430</th>\n",
       "      <td>5</td>\n",
       "      <td>В целом, неплохая модель, вот на свои деньги! ...</td>\n",
       "      <td>246</td>\n",
       "      <td>1</td>\n",
       "    </tr>\n",
       "    <tr>\n",
       "      <th>19899</th>\n",
       "      <td>5</td>\n",
       "      <td>Аппарат приобретался по необходимости взамен ...</td>\n",
       "      <td>550</td>\n",
       "      <td>1</td>\n",
       "    </tr>\n",
       "  </tbody>\n",
       "</table>\n",
       "<p>6545 rows × 4 columns</p>\n",
       "</div>"
      ],
      "text/plain": [
       "       scores                                            reviews  length  \\\n",
       "6579        3   Смартфон включается еще и от тряски. Нескольк...     166   \n",
       "15659       5   Уверенный прием. Достаточное количество опера...     253   \n",
       "5760        5   Оптимальный размер. Большой экран и не лопата...     207   \n",
       "392         1  Телефон сконструирован без датчика приближения...     195   \n",
       "7117        5  Меня устраивает . Покупал потому что , старый ...     185   \n",
       "...       ...                                                ...     ...   \n",
       "16675       5   - Огромная батарея. Держит заряд два дня. - В...     334   \n",
       "7219        5   3 года пользовался 7 Plus, решил перейти на 1...    1127   \n",
       "3001        3   Плохо держит заряд, садится на глазах, и это ...     151   \n",
       "16430       5  В целом, неплохая модель, вот на свои деньги! ...     246   \n",
       "19899       5   Аппарат приобретался по необходимости взамен ...     550   \n",
       "\n",
       "       label  \n",
       "6579       0  \n",
       "15659      1  \n",
       "5760       1  \n",
       "392        0  \n",
       "7117       1  \n",
       "...      ...  \n",
       "16675      1  \n",
       "7219       1  \n",
       "3001       0  \n",
       "16430      1  \n",
       "19899      1  \n",
       "\n",
       "[6545 rows x 4 columns]"
      ]
     },
     "execution_count": 192,
     "metadata": {},
     "output_type": "execute_result"
    }
   ],
   "source": [
    "data"
   ]
  },
  {
   "cell_type": "code",
   "execution_count": 193,
   "metadata": {},
   "outputs": [],
   "source": [
    "X = data['reviews'].values\n",
    "y = data['label'].values"
   ]
  },
  {
   "cell_type": "markdown",
   "metadata": {},
   "source": [
    "Now extract the test data."
   ]
  },
  {
   "cell_type": "code",
   "execution_count": 194,
   "metadata": {},
   "outputs": [],
   "source": [
    "with codecs.open('test.csv', 'r') as f:\n",
    "    test_text = f.read()\n",
    "    soup = BeautifulSoup(test_text, 'html.parser')\n",
    "    test_reviews = soup.findAll('review')\n",
    "    test_list = [test_review.text for test_review in test_reviews]"
   ]
  },
  {
   "cell_type": "code",
   "execution_count": 195,
   "metadata": {},
   "outputs": [
    {
     "data": {
      "text/html": [
       "<div>\n",
       "<style scoped>\n",
       "    .dataframe tbody tr th:only-of-type {\n",
       "        vertical-align: middle;\n",
       "    }\n",
       "\n",
       "    .dataframe tbody tr th {\n",
       "        vertical-align: top;\n",
       "    }\n",
       "\n",
       "    .dataframe thead th {\n",
       "        text-align: right;\n",
       "    }\n",
       "</style>\n",
       "<table border=\"1\" class=\"dataframe\">\n",
       "  <thead>\n",
       "    <tr style=\"text-align: right;\">\n",
       "      <th></th>\n",
       "      <th>text</th>\n",
       "    </tr>\n",
       "  </thead>\n",
       "  <tbody>\n",
       "    <tr>\n",
       "      <th>0</th>\n",
       "      <td>Ужасно слабый аккумулятор, это основной минус ...</td>\n",
       "    </tr>\n",
       "    <tr>\n",
       "      <th>1</th>\n",
       "      <td>ценанадежность-неубиваемостьдолго держит батар...</td>\n",
       "    </tr>\n",
       "    <tr>\n",
       "      <th>2</th>\n",
       "      <td>подробнее в комментариях\\nК сожалению, факт по...</td>\n",
       "    </tr>\n",
       "    <tr>\n",
       "      <th>3</th>\n",
       "      <td>я любительница громкой музыки. Тише телефона у...</td>\n",
       "    </tr>\n",
       "    <tr>\n",
       "      <th>4</th>\n",
       "      <td>Дата выпуска - 2011 г, емкость - 1430 mAh, тех...</td>\n",
       "    </tr>\n",
       "    <tr>\n",
       "      <th>...</th>\n",
       "      <td>...</td>\n",
       "    </tr>\n",
       "    <tr>\n",
       "      <th>95</th>\n",
       "      <td>Нет передней камеры, внутренняя память очень м...</td>\n",
       "    </tr>\n",
       "    <tr>\n",
       "      <th>96</th>\n",
       "      <td>Звук при прослушивание музыки хороший,не глючи...</td>\n",
       "    </tr>\n",
       "    <tr>\n",
       "      <th>97</th>\n",
       "      <td>Очень маленькая память забита вшитыми и соверш...</td>\n",
       "    </tr>\n",
       "    <tr>\n",
       "      <th>98</th>\n",
       "      <td>Удобный корпус,стандартное меню нокиа,камера д...</td>\n",
       "    </tr>\n",
       "    <tr>\n",
       "      <th>99</th>\n",
       "      <td>ПО, камера, отсутствие выбора приложение, нево...</td>\n",
       "    </tr>\n",
       "  </tbody>\n",
       "</table>\n",
       "<p>100 rows × 1 columns</p>\n",
       "</div>"
      ],
      "text/plain": [
       "                                                 text\n",
       "0   Ужасно слабый аккумулятор, это основной минус ...\n",
       "1   ценанадежность-неубиваемостьдолго держит батар...\n",
       "2   подробнее в комментариях\\nК сожалению, факт по...\n",
       "3   я любительница громкой музыки. Тише телефона у...\n",
       "4   Дата выпуска - 2011 г, емкость - 1430 mAh, тех...\n",
       "..                                                ...\n",
       "95  Нет передней камеры, внутренняя память очень м...\n",
       "96  Звук при прослушивание музыки хороший,не глючи...\n",
       "97  Очень маленькая память забита вшитыми и соверш...\n",
       "98  Удобный корпус,стандартное меню нокиа,камера д...\n",
       "99  ПО, камера, отсутствие выбора приложение, нево...\n",
       "\n",
       "[100 rows x 1 columns]"
      ]
     },
     "execution_count": 195,
     "metadata": {},
     "output_type": "execute_result"
    }
   ],
   "source": [
    "test = pd.DataFrame(test_list, columns=['text'])\n",
    "test"
   ]
  },
  {
   "cell_type": "code",
   "execution_count": 196,
   "metadata": {},
   "outputs": [],
   "source": [
    "X_test = test['text'].values"
   ]
  },
  {
   "cell_type": "markdown",
   "metadata": {},
   "source": [
    "At the end of this part I would like to mention that during the work on setting the problem different approaches were considered: different data handling within clean_review function, different approaches for getting label-column, different combinations of finally chosen reviews, also, was made an attempt to apply stemming.\n",
    "\n",
    "Here you can see the data preparation algorithm which showed the best result. "
   ]
  },
  {
   "cell_type": "markdown",
   "metadata": {},
   "source": [
    "## 2. Sentiment prediction model"
   ]
  },
  {
   "cell_type": "markdown",
   "metadata": {},
   "source": [
    "In this section the sentiment prediction algorithm is presented.\n",
    "\n",
    "Here we use pipeline consisting of CountVectorizer(), TfidfTransformer(), LinearSVC().\n",
    "\n",
    "The accuracy score by cross-validation on the train data gave the result: 0.943.\n",
    "\n",
    "The grid search on parameters improved the result to 0.9496.\n",
    "\n",
    "The presented pipeline gave the result 0.95555 on the test data.\n",
    "\n",
    "I would like to mention again that different models were tested, but the presented model gave the best result. "
   ]
  },
  {
   "cell_type": "code",
   "execution_count": 197,
   "metadata": {},
   "outputs": [],
   "source": [
    "stop_words = stopwords.words('russian')"
   ]
  },
  {
   "cell_type": "code",
   "execution_count": 198,
   "metadata": {},
   "outputs": [],
   "source": [
    "def make_pipeline(vectorizer, transformer, classifier):\n",
    "    return Pipeline([\n",
    "            ('vectorizer', vectorizer),\n",
    "            ('transformer', transformer),\n",
    "            ('classifier', classifier)\n",
    "        ])"
   ]
  },
  {
   "cell_type": "code",
   "execution_count": 199,
   "metadata": {},
   "outputs": [],
   "source": [
    "def make_estimator(classifier, params_grid, scorer, data, labels):\n",
    "    pipeline = make_pipeline(CountVectorizer(), TfidfTransformer(), classifier)\n",
    "    grid_cv = RandomizedSearchCV(pipeline, params_grid, scoring=scorer, cv=5, n_iter=100, verbose=1, n_jobs=-1)\n",
    "    grid_cv.fit(data, labels)\n",
    "    return grid_cv"
   ]
  },
  {
   "cell_type": "code",
   "execution_count": 200,
   "metadata": {},
   "outputs": [
    {
     "name": "stdout",
     "output_type": "stream",
     "text": [
      "LinearSVC score: 0.9469824293353705\n"
     ]
    }
   ],
   "source": [
    "score = cross_val_score(make_pipeline(CountVectorizer(), TfidfTransformer(), LinearSVC()), X, y, cv=5).mean()\n",
    "print(\"LinearSVC score:\", score)"
   ]
  },
  {
   "cell_type": "code",
   "execution_count": 201,
   "metadata": {},
   "outputs": [],
   "source": [
    "params_grid_vectorizer = {\n",
    "    'vectorizer__max_df': [0.85, 0.9, 0.95, 1.0],\n",
    "    'vectorizer__min_df': [1, 10, 20],\n",
    "    'vectorizer__ngram_range': [(1, 1), (1, 2), (1, 3), (1, 4), (1, 5), (1, 6)],\n",
    "    'vectorizer__stop_words': [stop_words, None]\n",
    "}\n",
    "params_grid_transformer = {\n",
    "    'transformer__norm': ['l1', 'l2'],\n",
    "    'transformer__smooth_idf': [True, False],\n",
    "    'transformer__use_idf': [True, False],\n",
    "    'transformer__sublinear_tf': [True, False]\n",
    "}\n",
    "params_grid_lsvc = {\n",
    "    'classifier__loss': ['hinge', 'squared_hinge'],\n",
    "    'classifier__max_iter': np.arange(200, 1000, 200),\n",
    "    'classifier__tol': [1e-5, 1e-4, 1e-3],\n",
    "    'classifier__C': [0.9, 1.0, 1.1, 1.2]\n",
    "}"
   ]
  },
  {
   "cell_type": "code",
   "execution_count": 202,
   "metadata": {},
   "outputs": [
    {
     "name": "stdout",
     "output_type": "stream",
     "text": [
      "Fitting 5 folds for each of 100 candidates, totalling 500 fits\n"
     ]
    },
    {
     "name": "stderr",
     "output_type": "stream",
     "text": [
      "[Parallel(n_jobs=-1)]: Using backend LokyBackend with 8 concurrent workers.\n",
      "[Parallel(n_jobs=-1)]: Done  34 tasks      | elapsed:   19.1s\n",
      "[Parallel(n_jobs=-1)]: Done 184 tasks      | elapsed:  2.6min\n",
      "[Parallel(n_jobs=-1)]: Done 434 tasks      | elapsed:  5.6min\n",
      "[Parallel(n_jobs=-1)]: Done 500 out of 500 | elapsed:  6.5min finished\n"
     ]
    },
    {
     "name": "stdout",
     "output_type": "stream",
     "text": [
      "LinearSVC:\n",
      "The best quality:  0.9515660809778457\n",
      "Best parameters:  {'vectorizer__stop_words': None, 'vectorizer__ngram_range': (1, 2), 'vectorizer__min_df': 10, 'vectorizer__max_df': 0.95, 'transformer__use_idf': False, 'transformer__sublinear_tf': True, 'transformer__smooth_idf': False, 'transformer__norm': 'l2', 'classifier__tol': 1e-05, 'classifier__max_iter': 200, 'classifier__loss': 'hinge', 'classifier__C': 1.2}\n",
      "CPU times: user 7.81 s, sys: 3.51 s, total: 11.3 s\n",
      "Wall time: 6min 32s\n"
     ]
    }
   ],
   "source": [
    "%%time\n",
    "grid_search_lsvc = make_estimator(LinearSVC(), {**params_grid_vectorizer, **params_grid_transformer, **params_grid_lsvc}, 'accuracy', X, y)\n",
    "print(\"LinearSVC:\")\n",
    "print(\"The best quality: \", grid_search_lsvc.best_score_)\n",
    "print(\"Best parameters: \", grid_search_lsvc.best_params_)"
   ]
  },
  {
   "cell_type": "code",
   "execution_count": 203,
   "metadata": {},
   "outputs": [
    {
     "data": {
      "text/plain": [
       "array([0, 1, 0, 0, 1, 1, 1, 1, 0, 1, 0, 0, 1, 1, 1, 1, 1, 1, 1, 1, 1, 0,\n",
       "       0, 1, 1, 0, 1, 1, 0, 1, 0, 1, 0, 1, 0, 1, 0, 1, 1, 0, 1, 1, 1, 0,\n",
       "       0, 1, 1, 1, 0, 0, 0, 0, 0, 0, 0, 1, 1, 1, 1, 1, 0, 1, 0, 0, 0, 0,\n",
       "       0, 1, 1, 1, 1, 0, 0, 0, 0, 1, 0, 0, 0, 0, 0, 0, 0, 0, 1, 1, 1, 1,\n",
       "       0, 0, 1, 1, 1, 1, 0, 0, 1, 0, 1, 0])"
      ]
     },
     "execution_count": 203,
     "metadata": {},
     "output_type": "execute_result"
    }
   ],
   "source": [
    "make_pipeline(CountVectorizer(), TfidfTransformer(), LinearSVC()).fit(X, y).predict(X_test)"
   ]
  },
  {
   "cell_type": "code",
   "execution_count": 204,
   "metadata": {},
   "outputs": [
    {
     "data": {
      "text/plain": [
       "[('vectorizer', CountVectorizer(max_df=0.95, min_df=10, ngram_range=(1, 2))),\n",
       " ('transformer',\n",
       "  TfidfTransformer(smooth_idf=False, sublinear_tf=True, use_idf=False)),\n",
       " ('classifier', LinearSVC(C=1.2, loss='hinge', max_iter=200, tol=1e-05))]"
      ]
     },
     "execution_count": 204,
     "metadata": {},
     "output_type": "execute_result"
    }
   ],
   "source": [
    "svc = grid_search_lsvc.best_estimator_\n",
    "svc.steps"
   ]
  },
  {
   "cell_type": "code",
   "execution_count": 176,
   "metadata": {},
   "outputs": [
    {
     "data": {
      "text/plain": [
       "array([0, 1, 0, 0, 1, 1, 1, 1, 0, 1, 0, 0, 1, 1, 1, 1, 1, 1, 1, 1, 1, 0,\n",
       "       0, 1, 1, 0, 1, 1, 0, 1, 0, 1, 0, 1, 0, 1, 0, 0, 1, 0, 1, 1, 1, 0,\n",
       "       0, 1, 1, 1, 0, 0, 0, 0, 0, 0, 0, 1, 1, 1, 1, 1, 0, 1, 0, 0, 0, 0,\n",
       "       0, 1, 1, 1, 1, 0, 0, 0, 0, 1, 0, 0, 0, 0, 0, 0, 0, 0, 1, 1, 1, 1,\n",
       "       0, 0, 1, 1, 0, 1, 0, 0, 1, 0, 1, 0])"
      ]
     },
     "execution_count": 176,
     "metadata": {},
     "output_type": "execute_result"
    }
   ],
   "source": [
    "pred = svc.predict(X_test)\n",
    "pred"
   ]
  },
  {
   "cell_type": "markdown",
   "metadata": {},
   "source": []
  },
  {
   "cell_type": "code",
   "execution_count": 177,
   "metadata": {},
   "outputs": [],
   "source": [
    "with open('submission1.csv', 'w') as f:\n",
    "    f.write(pd.DataFrame(pd.Series(map(str, range(0, 100))).str \\\n",
    "                         .cat(map(str, pd.Series(pred).apply(lambda x: 'neg' if x == 0 else 'pos')), sep=','), \n",
    "                         columns=['Id,y']).to_csv(sep=' ', index=False))"
   ]
  },
  {
   "cell_type": "markdown",
   "metadata": {},
   "source": [
    "Below you can see the leaderboard screenshot with the final result."
   ]
  },
  {
   "cell_type": "markdown",
   "metadata": {},
   "source": [
    "![alt text](Leaderboard.png \"Leaderboard\")"
   ]
  },
  {
   "cell_type": "markdown",
   "metadata": {},
   "source": [
    "Save the classification model in the file \"sent_class.pkl\"."
   ]
  },
  {
   "cell_type": "code",
   "execution_count": 207,
   "metadata": {},
   "outputs": [],
   "source": [
    "with open('sent_class.pkl', 'wb') as f:\n",
    "    pickle.dump(svc, f)"
   ]
  },
  {
   "cell_type": "markdown",
   "metadata": {},
   "source": [
    "Check that everything was saved correct."
   ]
  },
  {
   "cell_type": "code",
   "execution_count": 208,
   "metadata": {},
   "outputs": [],
   "source": [
    "clf = joblib.load(\"sent_class.pkl\")"
   ]
  },
  {
   "cell_type": "code",
   "execution_count": 215,
   "metadata": {},
   "outputs": [
    {
     "name": "stdout",
     "output_type": "stream",
     "text": [
      "Review:   Смартфон включается еще и от тряски. Несколько раз замечал это в кармане. Обман Samsung о ёмкости батареи. Камеры хорошие, но не тянут на заявленные характеристики. \n",
      "Actual tonality:  0\n",
      "Predicted tonality:  [0]\n"
     ]
    }
   ],
   "source": [
    "print(\"Review: \", X[0])\n",
    "print(\"Actual tonality: \", y[0])\n",
    "print(\"Predicted tonality: \", clf.predict([X[0]]))"
   ]
  },
  {
   "cell_type": "code",
   "execution_count": 213,
   "metadata": {},
   "outputs": [
    {
     "name": "stdout",
     "output_type": "stream",
     "text": [
      "Review:   Уверенный прием. Достаточное количество оперативной памяти, большой экран, чехол и наклеенная пленка в комплекте. Установленные программы вполне устраивают. Ну и конечно же батарея (использовал в режиме \"новая игрушка\" с 95% разрядился до 45% за день) \n",
      "Actual tonality:  1\n",
      "Predicted tonality:  [1]\n"
     ]
    }
   ],
   "source": [
    "print(\"Review: \", X[1])\n",
    "print(\"Actual tonality: \", y[1])\n",
    "print(\"Predicted tonality: \", clf.predict([X[1]]))"
   ]
  },
  {
   "cell_type": "code",
   "execution_count": 214,
   "metadata": {},
   "outputs": [
    {
     "name": "stdout",
     "output_type": "stream",
     "text": [
      "Review:   - быстрый - работает без сбоев - шикарная камера с 4 объективами - четкие снимки - гибкие настройки съемки видео - красивый дизайн - большой экран - удобное расположение кнопки включения и сенсора отпечатка пальца - сразу две симки + флешка - ИК-порт с программой для управления TV любых производителей - батареи хватает примерно на 2 дня - достаточно громкий динамик - настройки звука под разные типы наушников - в комплекте идет бампер, защитная пленка уже наклеена на экран - зарядка полностью заряжает тлф за 30 мин \n",
      "Actual tonality:  1\n",
      "Predicted tonality:  [1]\n"
     ]
    }
   ],
   "source": [
    "print(\"Review: \", X[100])\n",
    "print(\"Actual tonality: \", y[100])\n",
    "print(\"Predicted tonality: \", clf.predict([X[100]]))"
   ]
  }
 ],
 "metadata": {
  "kernelspec": {
   "display_name": "Python 3",
   "language": "python",
   "name": "python3"
  },
  "language_info": {
   "codemirror_mode": {
    "name": "ipython",
    "version": 3
   },
   "file_extension": ".py",
   "mimetype": "text/x-python",
   "name": "python",
   "nbconvert_exporter": "python",
   "pygments_lexer": "ipython3",
   "version": "3.8.3"
  }
 },
 "nbformat": 4,
 "nbformat_minor": 4
}
